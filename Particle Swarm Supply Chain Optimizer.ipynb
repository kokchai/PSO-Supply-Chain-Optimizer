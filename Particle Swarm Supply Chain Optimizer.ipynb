{
 "cells": [
  {
   "cell_type": "code",
   "execution_count": 1,
   "metadata": {},
   "outputs": [],
   "source": [
    "from deap import base\n",
    "from deap import creator\n",
    "from deap import tools\n",
    "from tqdm.notebook import tqdm\n",
    "\n",
    "import numpy as np\n",
    "import pandas as pd\n",
    "import matplotlib.pyplot as plt"
   ]
  },
  {
   "cell_type": "code",
   "execution_count": 2,
   "metadata": {},
   "outputs": [],
   "source": [
    "POP_SIZE = 200\n",
    "MAX_GENS = 200\n",
    "\n",
    "MIN_INIT = 0\n",
    "MAX_INIT = 800\n",
    "\n",
    "MIN_PVEL = -24\n",
    "MAX_PVEL =  24\n",
    "\n",
    "MAX_LUPF = MAX_GUPF = 2.0"
   ]
  },
  {
   "cell_type": "code",
   "execution_count": 3,
   "metadata": {},
   "outputs": [],
   "source": [
    "# supplier statistics (cost per component manufactured)\n",
    "suppStats = {'rmCost': [60, 65, 55, 70, 60], # raw material cost\n",
    "             'cmCost': [35, 40, 35, 40, 30], # component manufacturing cost\n",
    "             'cmCap': [700, 700, 500, 700, 550]}  # component manufacturing capacity\n",
    "\n",
    "# manufacturer statistics (cost per product manufactured)\n",
    "manuStats = {'csCost': [70, 75, 65, 80, 70], # component sourcing cost\n",
    "             'pmCost': [15, 20, 15, 15, 20], # product manufacturing cost\n",
    "             'csCap': [500, 600, 400, 550, 600], # component storage capacity\n",
    "             'pmCap': [550, 600, 450, 550, 600], # product manufacturing capacity\n",
    "             'smCost': [20, 25, 15, 15, 20]} # supplier-manufacturer transportation cost\n",
    "\n",
    "# distributor statistics (cost per product shipped)\n",
    "distStats = {'wsCost': [20, 25, 15, 20, 20], # warehouse storage cost\n",
    "             'wsCap': [700, 900, 500, 600, 350], # warehouse storage capacity\n",
    "             'mdCost': [10, 15, 15, 20, 10]} # manufacturer-distributor transportation cost\n",
    "\n",
    "# retailer statistics (cost per product sold)\n",
    "retaStats = {'psCost': [110, 105, 110, 115, 120], # product sourcing cost\n",
    "             'psCap': [600, 500, 800, 500, 600],  # product storage capacity\n",
    "             'demand': [550, 500, 750, 500, 600], # nominal product demand\n",
    "             'drCost': [15, 20, 25, 15, 20]} # distributor-retailer transportation cost\n",
    "                     \n",
    "        \n",
    "def _addUncertainties(demands):\n",
    "    \"\"\"\n",
    "    Introduction of uncertainty in the demand in the form of random changes in percentage difference ranging between -25% and +25%\n",
    "\n",
    "    Input  - demand (int)\n",
    "    Output - demand (int)\n",
    "    \"\"\"\n",
    "    percent    = [-0.25, -0.1, 0, 0.1, 0.25]\n",
    "    newDemands = demands * (1+np.random.choice(percent, 5))\n",
    "    return newDemands.astype(int)\n",
    "\n",
    "\n",
    "def _totalPenalty(solution):\n",
    "    \"\"\"\n",
    "    Total penalty from violations of constraints throughout the supply chain network\n",
    "    \n",
    "    Input  - solution (array)\n",
    "    Output - score (int)\n",
    "    \"\"\"\n",
    "    TP = 0   \n",
    "    \n",
    "    TP += np.clip(np.subtract(retaStats['psCap'], solution[0].sum(axis=0)), 0, None).sum() * 50\n",
    "    TP += np.clip(np.subtract(distStats['wsCap'], solution[1].sum(axis=0)), 0, None).sum() * 50\n",
    "    TP += np.clip(np.subtract(manuStats['csCap'], solution[2].sum(axis=0)), 0, None).sum() * 50\n",
    "    \n",
    "    TP += np.clip(np.subtract(manuStats['pmCap'], solution[1].sum(axis=1)), 0, None).sum() * 100\n",
    "    TP += np.clip(np.subtract(suppStats['cmCap'], solution[2].sum(axis=1)), 0, None).sum() * 100\n",
    "    \n",
    "    TP += np.clip(np.subtract(_addUncertainties(retaStats['demand']), solution[0].sum(axis=0)), 0, None).sum() * 250\n",
    "    return TP\n",
    "\n",
    "\n",
    "def _totalCost(solution):\n",
    "    \"\"\"\n",
    "    Total costs incurred throughout the supply chain network.\n",
    "\n",
    "    Input  - solution (array)\n",
    "    Output - score (int)\n",
    "    \"\"\"\n",
    "    TC = 0\n",
    "    TC += np.multiply(solution[0].sum(axis=0), np.add(retaStats['psCost'], retaStats['drCost'])).sum() # total retailer cost\n",
    "    TC += np.multiply(solution[0].sum(axis=1), np.add(distStats['wsCost'], distStats['mdCost'])).sum() # total distributor cost\n",
    "    TC += np.multiply(solution[1].sum(axis=1), np.add(np.add(manuStats['csCost'], manuStats['pmCost']), manuStats['smCost'])).sum() # total manufacturer cost\n",
    "    TC += np.multiply(solution[2].sum(axis=1), np.add(suppStats['rmCost'], suppStats['cmCost'])).sum() # total supplier cost    \n",
    "    return TC\n",
    "\n",
    "\n",
    "def _fitness(solution):\n",
    "    \"\"\"\n",
    "    Fitness is defined as the sum of total costs and total penalties arising from violation of constraints.\n",
    "    \n",
    "    Input  - solution (array)\n",
    "    Output - score (int)\n",
    "    \"\"\"\n",
    "    fit = _totalCost(solution) + _totalPenalty(solution)\n",
    "    return fit,"
   ]
  },
  {
   "cell_type": "code",
   "execution_count": 4,
   "metadata": {},
   "outputs": [],
   "source": [
    "def _createParticle():\n",
    "    particle = creator.Particle(np.random.randint(MIN_INIT, MAX_INIT, (3,5,5)))\n",
    "    particle.speed = np.random.randint(MIN_PVEL, MAX_PVEL, (3,5,5))\n",
    "    return particle\n",
    "\n",
    "def _updateParticle(particle, best):\n",
    "    localUF = np.random.uniform(0, MAX_LUPF, (3,5,5))\n",
    "    globalUF = np.random.uniform(0, MAX_GUPF, (3,5,5))\n",
    "\n",
    "    localSU = localUF   * (particle.best - particle)\n",
    "    globalSU = globalUF * (best - particle)\n",
    "\n",
    "    particle.speed = particle.speed + (localSU + globalSU)\n",
    "    particle.speed = np.clip(particle.speed, MIN_PVEL, MAX_PVEL)\n",
    "    particle[:] = particle + particle.speed\n",
    "    particle[:] = np.clip(particle, 0, None)"
   ]
  },
  {
   "cell_type": "code",
   "execution_count": 5,
   "metadata": {},
   "outputs": [],
   "source": [
    "toolbox = base.Toolbox()\n",
    "\n",
    "creator.create(\"FitnessMin\", base.Fitness, weights=(-1.0,))\n",
    "creator.create(\"Particle\", np.ndarray, fitness=creator.FitnessMin, speed=None, best=None)\n",
    "\n",
    "toolbox.register(\"particleCreator\", _createParticle)\n",
    "toolbox.register(\"populationCreator\", tools.initRepeat, list, toolbox.particleCreator)\n",
    "toolbox.register(\"evaluate\", _fitness)\n",
    "\n",
    "toolbox.register(\"update\", _updateParticle)"
   ]
  },
  {
   "cell_type": "code",
   "execution_count": 6,
   "metadata": {
    "scrolled": false
   },
   "outputs": [
    {
     "data": {
      "application/vnd.jupyter.widget-view+json": {
       "model_id": "39cc6364f29c4dc7bb2a254a3fad3e13",
       "version_major": 2,
       "version_minor": 0
      },
      "text/plain": [
       "HBox(children=(HTML(value=''), FloatProgress(value=0.0, max=200.0), HTML(value='')))"
      ]
     },
     "metadata": {},
     "output_type": "display_data"
    },
    {
     "name": "stdout",
     "output_type": "stream",
     "text": [
      "\n"
     ]
    }
   ],
   "source": [
    "def main():\n",
    "    \n",
    "    np.random.seed(28)\n",
    "    population = toolbox.populationCreator(n=POP_SIZE)\n",
    "\n",
    "    stats = tools.Statistics(lambda ind: ind.fitness.values)\n",
    "    stats.register(\"min\", np.min)\n",
    "    stats.register(\"avg\", np.mean)\n",
    "\n",
    "    logbook = tools.Logbook()\n",
    "    logbook.header = [\"gen\", \"evals\"] + stats.fields\n",
    "\n",
    "    best = None\n",
    "\n",
    "    for generation in tqdm(range(MAX_GENS)):\n",
    "        for particle in population:\n",
    "            particle.fitness.values = toolbox.evaluate(particle)\n",
    "\n",
    "            if particle.best is None or particle.best.size==0 or particle.best.fitness < particle.fitness:\n",
    "                particle.best = creator.Particle(particle)\n",
    "                particle.best.fitness.values = particle.fitness.values\n",
    "\n",
    "            if best is None or best.size==0 or best.fitness<particle.fitness:\n",
    "                best = creator.Particle(particle)\n",
    "                best.fitness.values = particle.fitness.values\n",
    "\n",
    "        for particle in population:\n",
    "            toolbox.update(particle, best)\n",
    "\n",
    "        logbook.record(gen=generation, evals=len(population), **stats.compile(population))\n",
    "        #print(logbook.stream)\n",
    "        \n",
    "    return population, logbook, best\n",
    "        \n",
    "if __name__ == \"__main__\":\n",
    "    population, logbook, best = main()"
   ]
  },
  {
   "cell_type": "code",
   "execution_count": 8,
   "metadata": {},
   "outputs": [],
   "source": [
    "Gen = logbook.select(\"gen\")\n",
    "Min = logbook.select(\"min\")\n",
    "Avg = logbook.select(\"avg\")"
   ]
  },
  {
   "cell_type": "code",
   "execution_count": 9,
   "metadata": {},
   "outputs": [
    {
     "data": {
      "image/png": "[encoded data removed]",
      "text/plain": [
       "<Figure size 600x400 with 1 Axes>"
      ]
     },
     "metadata": {
      "needs_background": "light"
     },
     "output_type": "display_data"
    }
   ],
   "source": [
    "plt.figure(figsize=(6,4), dpi=100);\n",
    "plt.plot(Gen, Min, color=\"red\", label=\"Minimum\");\n",
    "plt.plot(Gen, Avg, color=\"orange\", label=\"Average\");\n",
    "plt.ylabel(\"Solution Fitness\")\n",
    "plt.xlabel(\"Iteration\")\n",
    "plt.legend();"
   ]
  },
  {
   "cell_type": "code",
   "execution_count": null,
   "metadata": {},
   "outputs": [],
   "source": []
  }
 ],
 "metadata": {
  "kernelspec": {
   "display_name": "Python 3",
   "language": "python",
   "name": "python3"
  },
  "language_info": {
   "codemirror_mode": {
    "name": "ipython",
    "version": 3
   },
   "file_extension": ".py",
   "mimetype": "text/x-python",
   "name": "python",
   "nbconvert_exporter": "python",
   "pygments_lexer": "ipython3",
   "version": "3.8.5"
  }
 },
 "nbformat": 4,
 "nbformat_minor": 4
}
